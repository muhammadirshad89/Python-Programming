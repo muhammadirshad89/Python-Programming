{
 "cells": [
  {
   "cell_type": "code",
   "execution_count": 1,
   "metadata": {},
   "outputs": [
    {
     "data": {
      "text/plain": [
       "'Irshad Muhammad'"
      ]
     },
     "execution_count": 1,
     "metadata": {},
     "output_type": "execute_result"
    }
   ],
   "source": [
    "a = \"Irshad Muhammad\"\n",
    "print a"
   ]
  },
  {
   "cell_type": "code",
   "execution_count": 24,
   "metadata": {},
   "outputs": [
    {
     "name": "stdout",
     "output_type": "stream",
     "text": [
      "Irshad Muhammad\n",
      "Date : 4-November-2019\n",
      "Time : 12:35 PM\n",
      "\n",
      "Twinkle, Twinkle, Little Star,\n",
      "        How I wonder what you are!\n",
      "          Up above the world so high,\n",
      "          Like a diamond in the sky.\n",
      "Twinkle, Twinkle, Little Star,\n",
      "        How I wonder what you are!\n"
     ]
    }
   ],
   "source": [
    "a = (\"Irshad Muhammad\\nDate : 4-November-2019\\nTime : 12:35 PM\\n\\nTwinkle, Twinkle, Little Star,\\n        How I wonder what you are!\\n          Up above the world so high,\\n          Like a diamond in the sky.\\nTwinkle, Twinkle, Little Star,\\n        How I wonder what you are!\")\n",
    "print (a)"
   ]
  },
  {
   "cell_type": "code",
   "execution_count": null,
   "metadata": {},
   "outputs": [],
   "source": []
  }
 ],
 "metadata": {
  "kernelspec": {
   "display_name": "Python 3",
   "language": "python",
   "name": "python3"
  },
  "language_info": {
   "codemirror_mode": {
    "name": "ipython",
    "version": 3
   },
   "file_extension": ".py",
   "mimetype": "text/x-python",
   "name": "python",
   "nbconvert_exporter": "python",
   "pygments_lexer": "ipython3",
   "version": "3.7.4"
  }
 },
 "nbformat": 4,
 "nbformat_minor": 2
}
