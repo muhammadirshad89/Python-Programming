{
 "cells": [
  {
   "cell_type": "code",
   "execution_count": 5,
   "metadata": {},
   "outputs": [
    {
     "name": "stdout",
     "output_type": "stream",
     "text": [
      "How Many Number:5\n",
      "Enter Number3\n",
      "Enter Number4\n",
      "Enter Number5\n",
      "Enter Number6\n",
      "Enter Number6\n",
      "Sum Of The Numbers : 24\n"
     ]
    }
   ],
   "source": [
    "lst = []\n",
    "num = int(input('How Many Number:'))\n",
    "for n in range(num):\n",
    "    numbers = int(input('Enter Number'))\n",
    "    lst.append(numbers)\n",
    "print(\"Sum Of The Numbers :\", sum(lst))"
   ]
  },
  {
   "cell_type": "code",
   "execution_count": null,
   "metadata": {},
   "outputs": [],
   "source": []
  }
 ],
 "metadata": {
  "kernelspec": {
   "display_name": "Python 3",
   "language": "python",
   "name": "python3"
  },
  "language_info": {
   "codemirror_mode": {
    "name": "ipython",
    "version": 3
   },
   "file_extension": ".py",
   "mimetype": "text/x-python",
   "name": "python",
   "nbconvert_exporter": "python",
   "pygments_lexer": "ipython3",
   "version": "3.7.4"
  }
 },
 "nbformat": 4,
 "nbformat_minor": 2
}
