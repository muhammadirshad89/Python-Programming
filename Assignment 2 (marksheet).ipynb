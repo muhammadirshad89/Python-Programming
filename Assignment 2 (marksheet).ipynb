{
 "cells": [
  {
   "cell_type": "code",
   "execution_count": 3,
   "metadata": {},
   "outputs": [
    {
     "name": "stdout",
     "output_type": "stream",
     "text": [
      "English100\n",
      "Urdu200\n",
      "Maths23\n",
      "Islamiat23\n",
      "General Science23\n",
      "369\n"
     ]
    }
   ],
   "source": [
    "a=int(input(\"English\"))\n",
    "b=int(input(\"Urdu\"))\n",
    "c=int(input(\"Maths\"))\n",
    "d=int(input(\"Islamiat\"))\n",
    "e=int(input(\"General Science\"))\n",
    "sum=a+b+c+d+e\n",
    "print(sum)"
   ]
  },
  {
   "cell_type": "code",
   "execution_count": 5,
   "metadata": {},
   "outputs": [
    {
     "name": "stdout",
     "output_type": "stream",
     "text": [
      "English98\n",
      "Urdu56\n",
      "Maths45\n",
      "Islamiat67\n",
      "General Science58\n",
      "64.8\n"
     ]
    }
   ],
   "source": [
    "a=int(input(\"English\"))\n",
    "b=int(input(\"Urdu\"))\n",
    "c=int(input(\"Maths\"))\n",
    "d=int(input(\"Islamiat\"))\n",
    "e=int(input(\"General Science\"))\n",
    "sum=a+b+c+d+e\n",
    "Per=sum/5\n",
    "print(Per)"
   ]
  },
  {
   "cell_type": "markdown",
   "metadata": {},
   "source": [
    "a=int(input(\"English\"))\n",
    "b=int(input(\"Urdu\"))\n",
    "c=int(input(\"Maths\"))\n",
    "d=int(input(\"Islamiat\"))\n",
    "e=int(input(\"General Science\"))\n",
    "sum=a+b+c+d+e\n",
    "per=sum/5\n",
    "print(per)"
   ]
  },
  {
   "cell_type": "code",
   "execution_count": 6,
   "metadata": {},
   "outputs": [
    {
     "name": "stdout",
     "output_type": "stream",
     "text": [
      "English100\n",
      "Urdu34\n",
      "Maths3\n",
      "Islamiat45\n",
      "General Science34\n",
      "43.2\n"
     ]
    }
   ],
   "source": [
    "a=int(input(\"English\"))\n",
    "b=int(input(\"Urdu\"))\n",
    "c=int(input(\"Maths\"))\n",
    "d=int(input(\"Islamiat\"))\n",
    "e=int(input(\"General Science\"))\n",
    "sum=a+b+c+d+e\n",
    "Per=sum/5\n",
    "print(Per)"
   ]
  },
  {
   "cell_type": "code",
   "execution_count": 9,
   "metadata": {},
   "outputs": [
    {
     "ename": "SyntaxError",
     "evalue": "invalid syntax (<ipython-input-9-79042cb6dcad>, line 10)",
     "output_type": "error",
     "traceback": [
      "\u001b[1;36m  File \u001b[1;32m\"<ipython-input-9-79042cb6dcad>\"\u001b[1;36m, line \u001b[1;32m10\u001b[0m\n\u001b[1;33m    elif (per>=70 and <=79) :\u001b[0m\n\u001b[1;37m                       ^\u001b[0m\n\u001b[1;31mSyntaxError\u001b[0m\u001b[1;31m:\u001b[0m invalid syntax\n"
     ]
    }
   ],
   "source": [
    "a=int(input(\"English\"))\n",
    "b=int(input(\"Urdu\"))\n",
    "c=int(input(\"Maths\"))\n",
    "d=int(input(\"Islamiat\"))\n",
    "e=int(input(\"General Science\"))\n",
    "sum=a+b+c+d+e\n",
    "per=sum/5\n",
    "if(per>=80 and per <=100):\n",
    "    print (\"A+\")\n",
    "elif (per>=70 and <=79) :\n",
    "    print(\"A\")\n",
    "elif (per>=60 and <=69) :\n",
    "    print (\"B\")\n",
    "elif (per>=50 and <=59) :\n",
    "    print(\"C\")\n",
    "elif (per>=33 and <=49) :\n",
    "    print(\"D\")\n",
    "else:\n",
    "    Print (\"FAIL\")"
   ]
  },
  {
   "cell_type": "code",
   "execution_count": 12,
   "metadata": {},
   "outputs": [
    {
     "name": "stdout",
     "output_type": "stream",
     "text": [
      "English23\n",
      "Urdu34\n",
      "Maths35\n",
      "Islamiat32\n",
      "General Science32\n",
      "FAIL\n"
     ]
    }
   ],
   "source": [
    "a=int(input(\"English\"))\n",
    "b=int(input(\"Urdu\"))\n",
    "c=int(input(\"Maths\"))\n",
    "d=int(input(\"Islamiat\"))\n",
    "e=int(input(\"General Science\"))\n",
    "sum=a+b+c+d+e\n",
    "per=sum/5\n",
    "if(per>=80 and per <=100):\n",
    "    print (\"A+\")\n",
    "elif (per>=70 and per <=79) :\n",
    "    print(\"A\")\n",
    "elif (per>=60 and per <=69) :\n",
    "    print (\"B\")\n",
    "elif (per>=50 and per <=59) :\n",
    "    print(\"C\")\n",
    "elif (per>=33 and per <=49) :\n",
    "    print(\"D\")\n",
    "else:\n",
    "    print(\"FAIL\")"
   ]
  },
  {
   "cell_type": "code",
   "execution_count": null,
   "metadata": {},
   "outputs": [],
   "source": []
  }
 ],
 "metadata": {
  "kernelspec": {
   "display_name": "Python 3",
   "language": "python",
   "name": "python3"
  },
  "language_info": {
   "codemirror_mode": {
    "name": "ipython",
    "version": 3
   },
   "file_extension": ".py",
   "mimetype": "text/x-python",
   "name": "python",
   "nbconvert_exporter": "python",
   "pygments_lexer": "ipython3",
   "version": "3.7.4"
  }
 },
 "nbformat": 4,
 "nbformat_minor": 2
}
